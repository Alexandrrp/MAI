{
 "cells": [
  {
   "cell_type": "markdown",
   "id": "a6e72a8e",
   "metadata": {},
   "source": [
    "Самостоятельное задание №4"
   ]
  },
  {
   "cell_type": "code",
   "execution_count": 1,
   "id": "f78b5c9b",
   "metadata": {},
   "outputs": [],
   "source": [
    "row = \"Lambdadambda\""
   ]
  },
  {
   "cell_type": "markdown",
   "id": "c1c827fd",
   "metadata": {},
   "source": [
    "1. Вывести третий символ этой строки"
   ]
  },
  {
   "cell_type": "code",
   "execution_count": 3,
   "id": "4a1f2b67",
   "metadata": {},
   "outputs": [
    {
     "name": "stdout",
     "output_type": "stream",
     "text": [
      "m\n"
     ]
    }
   ],
   "source": [
    "print(row[2])"
   ]
  },
  {
   "cell_type": "markdown",
   "id": "5f0628cb",
   "metadata": {},
   "source": [
    "2. Вывести предпоследний символ этой строки"
   ]
  },
  {
   "cell_type": "code",
   "execution_count": 7,
   "id": "412e665d",
   "metadata": {},
   "outputs": [
    {
     "name": "stdout",
     "output_type": "stream",
     "text": [
      "d\n"
     ]
    }
   ],
   "source": [
    "a = len(row)\n",
    "print(row[11-1])"
   ]
  },
  {
   "cell_type": "markdown",
   "id": "2258eaab",
   "metadata": {},
   "source": [
    "3. Вывести первые пять символов этой строки"
   ]
  },
  {
   "cell_type": "code",
   "execution_count": 2,
   "id": "69c4b433",
   "metadata": {},
   "outputs": [
    {
     "name": "stdout",
     "output_type": "stream",
     "text": [
      "Lambd"
     ]
    }
   ],
   "source": [
    "i = 1\n",
    "while i <= 5:\n",
    "    print(row[i-1], end='')\n",
    "    i = i + 1"
   ]
  },
  {
   "cell_type": "markdown",
   "id": "e0d13251",
   "metadata": {},
   "source": [
    "4. Вывести строку, кроме последних двух символов"
   ]
  },
  {
   "cell_type": "code",
   "execution_count": 3,
   "id": "21cbae24",
   "metadata": {},
   "outputs": [
    {
     "name": "stdout",
     "output_type": "stream",
     "text": [
      "Lambdadamb"
     ]
    }
   ],
   "source": [
    "i = 1\n",
    "while i <= len(row)-2:\n",
    "    print(row[i-1], end='')\n",
    "    i += 1"
   ]
  },
  {
   "cell_type": "markdown",
   "id": "172150fb",
   "metadata": {},
   "source": [
    "5. Вывести все символы с четными индексами (считайте, что 0 - четный индекс)"
   ]
  },
  {
   "cell_type": "code",
   "execution_count": 4,
   "id": "31a302a8",
   "metadata": {},
   "outputs": [
    {
     "name": "stdout",
     "output_type": "stream",
     "text": [
      "Lmddmd"
     ]
    }
   ],
   "source": [
    "i = 1\n",
    "print(row[0],end='')\n",
    "while i <= len(row)-1:\n",
    "    if (i % 2) == 0:\n",
    "        print(row[i], end='')\n",
    "    i += 1"
   ]
  },
  {
   "cell_type": "markdown",
   "id": "da23f89c",
   "metadata": {},
   "source": [
    "6. Вывести все символы с нечетными индексами"
   ]
  },
  {
   "cell_type": "code",
   "execution_count": 5,
   "id": "223403ab",
   "metadata": {},
   "outputs": [
    {
     "name": "stdout",
     "output_type": "stream",
     "text": [
      "abaaba"
     ]
    }
   ],
   "source": [
    "i = 1\n",
    "while i <= len(row)-1:\n",
    "    if (i % 2) == 1:\n",
    "        print(row[i], end='')\n",
    "    i += 1"
   ]
  },
  {
   "cell_type": "markdown",
   "id": "04918689",
   "metadata": {},
   "source": [
    "7. Вывести все символы в обратном порядке"
   ]
  },
  {
   "cell_type": "code",
   "execution_count": 9,
   "id": "c8d8a12a",
   "metadata": {},
   "outputs": [
    {
     "name": "stdout",
     "output_type": "stream",
     "text": [
      "dbmadadbmaL"
     ]
    }
   ],
   "source": [
    "i = 1\n",
    "while i <= len(row)-1:\n",
    "    print(row[len(row)-1-i], end='')\n",
    "    i += 1"
   ]
  },
  {
   "cell_type": "markdown",
   "id": "38e69fb3",
   "metadata": {},
   "source": [
    "8. Вывести все символы строки через один в обратном порядке, начиная с последнего"
   ]
  },
  {
   "cell_type": "code",
   "execution_count": 11,
   "id": "584e39bf",
   "metadata": {},
   "outputs": [
    {
     "name": "stdout",
     "output_type": "stream",
     "text": [
      "abaabadmddmL"
     ]
    }
   ],
   "source": [
    "for i in range (int(len(row)/2)):\n",
    "    print(row[len(row)-1-2*i], end=\"\") #сначала четные с конца\n",
    "for i in range (int(len(row)/2)):\n",
    "    print(row[len(row)-2-2*i], end=\"\") #нечетные с конца"
   ]
  },
  {
   "cell_type": "markdown",
   "id": "2b720913",
   "metadata": {},
   "source": [
    "9. Вывести длину данной строки"
   ]
  },
  {
   "cell_type": "code",
   "execution_count": 12,
   "id": "e5539c83",
   "metadata": {},
   "outputs": [
    {
     "name": "stdout",
     "output_type": "stream",
     "text": [
      "12\n"
     ]
    }
   ],
   "source": [
    "print(len(row))"
   ]
  },
  {
   "cell_type": "code",
   "execution_count": null,
   "id": "717dca70",
   "metadata": {},
   "outputs": [],
   "source": []
  }
 ],
 "metadata": {
  "kernelspec": {
   "display_name": "Python 3 (ipykernel)",
   "language": "python",
   "name": "python3"
  },
  "language_info": {
   "codemirror_mode": {
    "name": "ipython",
    "version": 3
   },
   "file_extension": ".py",
   "mimetype": "text/x-python",
   "name": "python",
   "nbconvert_exporter": "python",
   "pygments_lexer": "ipython3",
   "version": "3.10.0"
  }
 },
 "nbformat": 4,
 "nbformat_minor": 5
}
