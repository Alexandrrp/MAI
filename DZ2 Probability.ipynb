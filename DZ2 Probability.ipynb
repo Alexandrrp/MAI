{
 "cells": [
  {
   "cell_type": "markdown",
   "metadata": {},
   "source": [
    "Задание 1: Один самолет вылетел из Москвы, и должен совершить посадку в 5 городах. Необходимо узнать, количество городов, в котрых может приземлиться в первый, второй, третий город.\n",
    "Это решение действительно при условии, что самолет может приземлиться во второй, потом в третий и только затем в первый город - т.е. посетить за один полет несколько городов."
   ]
  },
  {
   "cell_type": "code",
   "execution_count": 1,
   "metadata": {},
   "outputs": [
    {
     "name": "stdout",
     "output_type": "stream",
     "text": [
      "60.0%\n"
     ]
    }
   ],
   "source": [
    "def factorial(n):\n",
    "    if n == 1: \n",
    "        return 1\n",
    "    else: \n",
    "        return n * factorial(n-1)\n",
    "print(f'{factorial(5)/factorial(5-3)}%')"
   ]
  },
  {
   "cell_type": "markdown",
   "metadata": {},
   "source": [
    "Задание 1: Один самолет вылетел из Москвы, и должен совершить посадку в 5 городах. Необходимо узнать, количество городов, в котрых может приземлиться в первый, второй, третий город.\n",
    "Здесь примем, что самолет за один полет приземляется только в один город. Тогда:"
   ]
  },
  {
   "cell_type": "code",
   "execution_count": 2,
   "metadata": {},
   "outputs": [
    {
     "name": "stdout",
     "output_type": "stream",
     "text": [
      "60.0%\n"
     ]
    }
   ],
   "source": [
    "print(f'{3/5*100}%')"
   ]
  },
  {
   "cell_type": "markdown",
   "metadata": {},
   "source": [
    "Задание 2: Осьминог Пауль 16 раз пробовал угадать победителя футбольного матча. 14 раз он угадал правильно, 2 раза ошибся. Проверьте гипотезу H0: Пауль выбирает победителя футбольного матча случайно. Сделайте вывод. (сложная задача)"
   ]
  },
  {
   "cell_type": "code",
   "execution_count": 3,
   "metadata": {},
   "outputs": [
    {
     "name": "stdout",
     "output_type": "stream",
     "text": [
      "1.6653345369377348e-15 % - вероятность данного события\n"
     ]
    }
   ],
   "source": [
    "c = 16 #кол-во попыток\n",
    "right = 14 #кол-во угаданных вариантов\n",
    "def factorial (n):\n",
    "    if n == 1: \n",
    "        return 1\n",
    "    else: \n",
    "        return n * factorial (n-1)\n",
    "answer = factorial(c)/(factorial(right)*factorial(c-right))/c**right\n",
    "print (f'{answer} % - вероятность данного события') "
   ]
  },
  {
   "cell_type": "code",
   "execution_count": null,
   "metadata": {},
   "outputs": [],
   "source": []
  }
 ],
 "metadata": {
  "kernelspec": {
   "display_name": "Python 3 (ipykernel)",
   "language": "python",
   "name": "python3"
  },
  "language_info": {
   "codemirror_mode": {
    "name": "ipython",
    "version": 3
   },
   "file_extension": ".py",
   "mimetype": "text/x-python",
   "name": "python",
   "nbconvert_exporter": "python",
   "pygments_lexer": "ipython3",
   "version": "3.10.0"
  }
 },
 "nbformat": 4,
 "nbformat_minor": 4
}
