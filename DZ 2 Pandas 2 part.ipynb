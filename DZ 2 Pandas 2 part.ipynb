{
 "cells": [
  {
   "cell_type": "markdown",
   "id": "ca488593",
   "metadata": {},
   "source": [
    "Домашнее задание. Pandas"
   ]
  },
  {
   "cell_type": "code",
   "execution_count": 9,
   "id": "9357f0c2",
   "metadata": {},
   "outputs": [],
   "source": [
    "import pandas as pd\n",
    "df = pd.read_csv('TSLA.csv');"
   ]
  },
  {
   "cell_type": "markdown",
   "id": "3fd5e8df",
   "metadata": {},
   "source": [
    "1. Вывести все колонки из DataFrame"
   ]
  },
  {
   "cell_type": "code",
   "execution_count": 2,
   "id": "0b2e4e92",
   "metadata": {},
   "outputs": [
    {
     "data": {
      "text/html": [
       "<div>\n",
       "<style scoped>\n",
       "    .dataframe tbody tr th:only-of-type {\n",
       "        vertical-align: middle;\n",
       "    }\n",
       "\n",
       "    .dataframe tbody tr th {\n",
       "        vertical-align: top;\n",
       "    }\n",
       "\n",
       "    .dataframe thead th {\n",
       "        text-align: right;\n",
       "    }\n",
       "</style>\n",
       "<table border=\"1\" class=\"dataframe\">\n",
       "  <thead>\n",
       "    <tr style=\"text-align: right;\">\n",
       "      <th></th>\n",
       "      <th>Date</th>\n",
       "      <th>Open</th>\n",
       "      <th>High</th>\n",
       "      <th>Low</th>\n",
       "      <th>Close</th>\n",
       "      <th>Adj Close</th>\n",
       "      <th>Volume</th>\n",
       "    </tr>\n",
       "  </thead>\n",
       "  <tbody>\n",
       "    <tr>\n",
       "      <th>0</th>\n",
       "      <td>2010-06-29</td>\n",
       "      <td>3.800000</td>\n",
       "      <td>5.000000</td>\n",
       "      <td>3.508000</td>\n",
       "      <td>4.778000</td>\n",
       "      <td>4.778000</td>\n",
       "      <td>93831500</td>\n",
       "    </tr>\n",
       "    <tr>\n",
       "      <th>1</th>\n",
       "      <td>2010-06-30</td>\n",
       "      <td>5.158000</td>\n",
       "      <td>6.084000</td>\n",
       "      <td>4.660000</td>\n",
       "      <td>4.766000</td>\n",
       "      <td>4.766000</td>\n",
       "      <td>85935500</td>\n",
       "    </tr>\n",
       "    <tr>\n",
       "      <th>2</th>\n",
       "      <td>2010-07-01</td>\n",
       "      <td>5.000000</td>\n",
       "      <td>5.184000</td>\n",
       "      <td>4.054000</td>\n",
       "      <td>4.392000</td>\n",
       "      <td>4.392000</td>\n",
       "      <td>41094000</td>\n",
       "    </tr>\n",
       "    <tr>\n",
       "      <th>3</th>\n",
       "      <td>2010-07-02</td>\n",
       "      <td>4.600000</td>\n",
       "      <td>4.620000</td>\n",
       "      <td>3.742000</td>\n",
       "      <td>3.840000</td>\n",
       "      <td>3.840000</td>\n",
       "      <td>25699000</td>\n",
       "    </tr>\n",
       "    <tr>\n",
       "      <th>4</th>\n",
       "      <td>2010-07-06</td>\n",
       "      <td>4.000000</td>\n",
       "      <td>4.000000</td>\n",
       "      <td>3.166000</td>\n",
       "      <td>3.222000</td>\n",
       "      <td>3.222000</td>\n",
       "      <td>34334500</td>\n",
       "    </tr>\n",
       "    <tr>\n",
       "      <th>...</th>\n",
       "      <td>...</td>\n",
       "      <td>...</td>\n",
       "      <td>...</td>\n",
       "      <td>...</td>\n",
       "      <td>...</td>\n",
       "      <td>...</td>\n",
       "      <td>...</td>\n",
       "    </tr>\n",
       "    <tr>\n",
       "      <th>2572</th>\n",
       "      <td>2020-09-16</td>\n",
       "      <td>439.869995</td>\n",
       "      <td>457.790009</td>\n",
       "      <td>435.309998</td>\n",
       "      <td>441.760010</td>\n",
       "      <td>441.760010</td>\n",
       "      <td>72279300</td>\n",
       "    </tr>\n",
       "    <tr>\n",
       "      <th>2573</th>\n",
       "      <td>2020-09-17</td>\n",
       "      <td>415.600006</td>\n",
       "      <td>437.790009</td>\n",
       "      <td>408.000000</td>\n",
       "      <td>423.429993</td>\n",
       "      <td>423.429993</td>\n",
       "      <td>76779200</td>\n",
       "    </tr>\n",
       "    <tr>\n",
       "      <th>2574</th>\n",
       "      <td>2020-09-18</td>\n",
       "      <td>447.940002</td>\n",
       "      <td>451.000000</td>\n",
       "      <td>428.799988</td>\n",
       "      <td>442.149994</td>\n",
       "      <td>442.149994</td>\n",
       "      <td>86406800</td>\n",
       "    </tr>\n",
       "    <tr>\n",
       "      <th>2575</th>\n",
       "      <td>2020-09-21</td>\n",
       "      <td>453.130005</td>\n",
       "      <td>455.679993</td>\n",
       "      <td>407.070007</td>\n",
       "      <td>449.390015</td>\n",
       "      <td>449.390015</td>\n",
       "      <td>109476800</td>\n",
       "    </tr>\n",
       "    <tr>\n",
       "      <th>2576</th>\n",
       "      <td>2020-09-22</td>\n",
       "      <td>429.600006</td>\n",
       "      <td>437.760010</td>\n",
       "      <td>417.600006</td>\n",
       "      <td>424.230011</td>\n",
       "      <td>424.230011</td>\n",
       "      <td>73640900</td>\n",
       "    </tr>\n",
       "  </tbody>\n",
       "</table>\n",
       "<p>2577 rows × 7 columns</p>\n",
       "</div>"
      ],
      "text/plain": [
       "            Date        Open        High         Low       Close   Adj Close  \\\n",
       "0     2010-06-29    3.800000    5.000000    3.508000    4.778000    4.778000   \n",
       "1     2010-06-30    5.158000    6.084000    4.660000    4.766000    4.766000   \n",
       "2     2010-07-01    5.000000    5.184000    4.054000    4.392000    4.392000   \n",
       "3     2010-07-02    4.600000    4.620000    3.742000    3.840000    3.840000   \n",
       "4     2010-07-06    4.000000    4.000000    3.166000    3.222000    3.222000   \n",
       "...          ...         ...         ...         ...         ...         ...   \n",
       "2572  2020-09-16  439.869995  457.790009  435.309998  441.760010  441.760010   \n",
       "2573  2020-09-17  415.600006  437.790009  408.000000  423.429993  423.429993   \n",
       "2574  2020-09-18  447.940002  451.000000  428.799988  442.149994  442.149994   \n",
       "2575  2020-09-21  453.130005  455.679993  407.070007  449.390015  449.390015   \n",
       "2576  2020-09-22  429.600006  437.760010  417.600006  424.230011  424.230011   \n",
       "\n",
       "         Volume  \n",
       "0      93831500  \n",
       "1      85935500  \n",
       "2      41094000  \n",
       "3      25699000  \n",
       "4      34334500  \n",
       "...         ...  \n",
       "2572   72279300  \n",
       "2573   76779200  \n",
       "2574   86406800  \n",
       "2575  109476800  \n",
       "2576   73640900  \n",
       "\n",
       "[2577 rows x 7 columns]"
      ]
     },
     "execution_count": 2,
     "metadata": {},
     "output_type": "execute_result"
    }
   ],
   "source": [
    "df"
   ]
  },
  {
   "cell_type": "markdown",
   "id": "e7063a1d",
   "metadata": {},
   "source": [
    "2. Посчитать среднюю цену закрытия акций Tesla, в периуд с открытия по 10.01.2012"
   ]
  },
  {
   "cell_type": "code",
   "execution_count": 3,
   "id": "912f0dd2",
   "metadata": {},
   "outputs": [
    {
     "name": "stdout",
     "output_type": "stream",
     "text": [
      "5.129875968992248\n"
     ]
    }
   ],
   "source": [
    "df.index=df.Date\n",
    "print (df[df.Date < '2012-01-10']['Close'].mean())\n",
    "\n",
    "df.index = range(len(df)) #вернуть как было"
   ]
  },
  {
   "cell_type": "markdown",
   "id": "9e20f75e",
   "metadata": {},
   "source": [
    "3. Вывести график цены закрытия"
   ]
  },
  {
   "cell_type": "code",
   "execution_count": 4,
   "id": "65d0a1a4",
   "metadata": {},
   "outputs": [
    {
     "data": {
      "text/plain": [
       "<AxesSubplot:>"
      ]
     },
     "execution_count": 4,
     "metadata": {},
     "output_type": "execute_result"
    },
    {
     "data": {
      "image/png": "[encoded data removed]",
      "text/plain": [
       "<Figure size 1200x500 with 1 Axes>"
      ]
     },
     "metadata": {
      "needs_background": "light"
     },
     "output_type": "display_data"
    }
   ],
   "source": [
    "from matplotlib.pyplot import figure\n",
    "\n",
    "figure(figsize=(12,5), dpi=100)\n",
    "\n",
    "df.Close.plot()"
   ]
  },
  {
   "cell_type": "markdown",
   "id": "47c5704f",
   "metadata": {},
   "source": [
    "4. Нормализация столба Open"
   ]
  },
  {
   "cell_type": "code",
   "execution_count": 5,
   "id": "a658619d",
   "metadata": {},
   "outputs": [
    {
     "data": {
      "text/plain": [
       "0       0.001146\n",
       "1       0.003868\n",
       "2       0.003552\n",
       "3       0.002750\n",
       "4       0.001547\n",
       "          ...   \n",
       "2572    0.875188\n",
       "2573    0.826543\n",
       "2574    0.891364\n",
       "2575    0.901766\n",
       "2576    0.854604\n",
       "Name: Open, Length: 2577, dtype: float64"
      ]
     },
     "execution_count": 5,
     "metadata": {},
     "output_type": "execute_result"
    }
   ],
   "source": [
    "df.Open.apply(lambda x: (x-df.Open.min())/(df.Open.max()-df.Open.min()))"
   ]
  },
  {
   "cell_type": "markdown",
   "id": "82d1cac2",
   "metadata": {},
   "source": [
    "5. Построить график с ценой закрытия и посчитаным SMA 12,15,30"
   ]
  },
  {
   "cell_type": "code",
   "execution_count": 6,
   "id": "8da19346",
   "metadata": {},
   "outputs": [
    {
     "data": {
      "text/plain": [
       "<AxesSubplot:>"
      ]
     },
     "execution_count": 6,
     "metadata": {},
     "output_type": "execute_result"
    },
    {
     "data": {
      "image/png": "[encoded data removed]",
      "text/plain": [
       "<Figure size 432x288 with 1 Axes>"
      ]
     },
     "metadata": {
      "needs_background": "light"
     },
     "output_type": "display_data"
    }
   ],
   "source": [
    "df.Close.rolling(window=12).mean().plot()"
   ]
  },
  {
   "cell_type": "code",
   "execution_count": 7,
   "id": "fd8c8734",
   "metadata": {},
   "outputs": [
    {
     "data": {
      "text/plain": [
       "<AxesSubplot:>"
      ]
     },
     "execution_count": 7,
     "metadata": {},
     "output_type": "execute_result"
    },
    {
     "data": {
      "image/png": "[encoded data removed]",
      "text/plain": [
       "<Figure size 432x288 with 1 Axes>"
      ]
     },
     "metadata": {
      "needs_background": "light"
     },
     "output_type": "display_data"
    }
   ],
   "source": [
    "df.Close.rolling(window=15).mean().plot()"
   ]
  },
  {
   "cell_type": "code",
   "execution_count": 8,
   "id": "f81db4df",
   "metadata": {},
   "outputs": [
    {
     "data": {
      "text/plain": [
       "<AxesSubplot:>"
      ]
     },
     "execution_count": 8,
     "metadata": {},
     "output_type": "execute_result"
    },
    {
     "data": {
      "image/png": "[encoded data removed]",
      "text/plain": [
       "<Figure size 432x288 with 1 Axes>"
      ]
     },
     "metadata": {
      "needs_background": "light"
     },
     "output_type": "display_data"
    }
   ],
   "source": [
    "df.Close.rolling(window=30).mean().plot()"
   ]
  },
  {
   "cell_type": "code",
   "execution_count": null,
   "id": "68137afc",
   "metadata": {},
   "outputs": [],
   "source": []
  }
 ],
 "metadata": {
  "kernelspec": {
   "display_name": "Python 3 (ipykernel)",
   "language": "python",
   "name": "python3"
  },
  "language_info": {
   "codemirror_mode": {
    "name": "ipython",
    "version": 3
   },
   "file_extension": ".py",
   "mimetype": "text/x-python",
   "name": "python",
   "nbconvert_exporter": "python",
   "pygments_lexer": "ipython3",
   "version": "3.10.0"
  }
 },
 "nbformat": 4,
 "nbformat_minor": 5
}
